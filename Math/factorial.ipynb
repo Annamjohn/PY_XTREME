{
  "cells": [
    {
      "cell_type": "code",
      "execution_count": 5,
      "metadata": {
        "colab": {
          "base_uri": "https://localhost:8080/"
        },
        "id": "N3GiIvRltslR",
        "outputId": "eb0aae92-3732-4c2b-beac-ddcf6cdeb0db"
      },
      "outputs": [
        {
          "output_type": "stream",
          "name": "stdout",
          "text": [
            "Enter the number:8\n",
            "Factorial of 8 is 40320\n"
          ]
        }
      ],
      "source": [
        "#Joel Peter Joseph\n",
        "# Python  program to find  \n",
        "# factorial of given number  \n",
        "\n",
        "import math  \n",
        "def fact(n):  \n",
        "    return(math.factorial(n))  \n",
        "  \n",
        "num = int(input(\"Enter the number:\"))  \n",
        "f = fact(num)  \n",
        "print(\"Factorial of\", num, \"is\", f)  "
      ]
    },
    {
      "cell_type": "markdown",
      "source": [
        "HELLO MY NAME IS JON"
      ],
      "metadata": {
        "id": "MA_rIQxKNtEd"
      }
    },
    {
      "cell_type": "markdown",
      "source": [],
      "metadata": {
        "id": "ijIjhbaHL8f4"
      }
    }
  ],
  "metadata": {
    "colab": {
      "provenance": []
    },
    "kernelspec": {
      "display_name": "Python 3",
      "name": "python3"
    },
    "language_info": {
      "name": "python"
    }
  },
  "nbformat": 4,
  "nbformat_minor": 0
}