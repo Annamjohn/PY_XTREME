{
  "nbformat": 4,
  "nbformat_minor": 0,
  "metadata": {
    "colab": {
      "provenance": [],
      "authorship_tag": "ABX9TyPz1WAy11LD4/aQDht6z8ZB",
      "include_colab_link": true
    },
    "kernelspec": {
      "name": "python3",
      "display_name": "Python 3"
    },
    "language_info": {
      "name": "python"
    }
  },
  "cells": [
    {
      "cell_type": "markdown",
      "metadata": {
        "id": "view-in-github",
        "colab_type": "text"
      },
      "source": [
        "<a href=\"https://colab.research.google.com/github/vishnu-777/PY_XTREME/blob/main/numpybasics.ipynb\" target=\"_parent\"><img src=\"https://colab.research.google.com/assets/colab-badge.svg\" alt=\"Open In Colab\"/></a>"
      ]
    },
    {
      "cell_type": "code",
      "execution_count": null,
      "metadata": {
        "id": "92CkvfYeUpno"
      },
      "outputs": [],
      "source": [
        "import numpy as np\n",
        "arr=np.array([1,2,3,'a'])\n",
        "print(arr)\n",
        "print(type(arr))\n",
        "\n",
        "arr2=np.linspace(start=1,stop=6,num=15,endpoint=True,retstep=False)\n",
        "print(arr2)\n",
        "print(type(arr2))\n",
        "print(np.shape(arr2))\n",
        "print(np.shape(arr))\n",
        "\n",
        "arr3=np.arange(start=1,stop=11,step=3)\n",
        "print(arr3)\n",
        "\n",
        "arr4=np.ones((2,2))\n",
        "print(arr4)\n",
        "\n",
        "arr5=np.zeros((3,2))\n",
        "print(\"\\n\",arr5)\n",
        "\n",
        "arr6=np.random.rand(1,2)\n",
        "print(arr6)\n",
        "\n",
        "arr7=np.logspace(start=1,stop=10,num=5,base=10)\n",
        "print(arr7)"
      ]
    }
  ]
}